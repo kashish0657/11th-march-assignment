{
 "cells": [
  {
   "cell_type": "markdown",
   "id": "69fa37c8-5028-4384-973d-42d059ec1581",
   "metadata": {},
   "source": [
    "## 11th march assignment"
   ]
  },
  {
   "cell_type": "markdown",
   "id": "17043968-f702-4f73-a3f0-aefdc10cb2f8",
   "metadata": {},
   "source": [
    "## 1:ans:-"
   ]
  },
  {
   "cell_type": "code",
   "execution_count": null,
   "id": "158ba870-7b55-4249-824c-60eb9fea6cce",
   "metadata": {},
   "outputs": [],
   "source": [
    "T-Test:\n",
    "A t-test is used when the sample size is small (typically less than 30) or when the population\n",
    "standard deviation is unknown. It is based on Student's t-distribution, which has heavier tails\n",
    "compared to the standard normal (z) distribution.\n",
    "\n",
    "Example Scenario:\n",
    "Suppose you want to compare the mean weights of two groups of people: Group A and Group B. You\n",
    "randomly select 20 individuals from each group and measure their weights. To determine if there\n",
    "is a significant difference between the mean weights of the two groups, you can use a t-test.\n",
    "\n",
    "Z-Test:\n",
    "A z-test is used when the sample size is large (typically greater than 30) or when the population\n",
    "standard deviation is known. It assumes that the population follows a normal distribution and uses\n",
    "the standard normal (z) distribution.\n",
    "Example Scenario:\n",
    "Let's say you work in a quality control department and need to determine whether the mean weight of\n",
    "a product matches a specified target weight. You collect a large sample of 200 items, measure their\n",
    "weights, and want to test if the mean weight is significantly different from the target weight. In this case,\n",
    "a z-test would be appropriate since the sample size is large."
   ]
  },
  {
   "cell_type": "markdown",
   "id": "5494cf6b-3fa9-4229-b299-1e69e7b4b76d",
   "metadata": {},
   "source": [
    "## 2:ans:-"
   ]
  },
  {
   "cell_type": "code",
   "execution_count": null,
   "id": "1889be92-58d3-453f-8290-8158a5bb864b",
   "metadata": {},
   "outputs": [],
   "source": [
    "One-Tailed Test:\n",
    "A one-tailed test is used when the researcher is specifically interested in determining if the\n",
    "observed results are significantly greater or smaller than what is expected by chance in a specific\n",
    "direction. The hypothesis is formulated with a specific directional expectation. The critical region\n",
    "is concentrated on one side of the distribution.\n",
    "\n",
    "Two-Tailed Test:\n",
    "A two-tailed test is used when the researcher is interested in determining if the observed results are \n",
    "significantly different from what is expected by chance, without any specific directional expectation. \n",
    "The hypotheses do not specify a particular direction; instead, they state that the observed results differ\n",
    "significantly from the expected values. The critical region is divided between both sides of the distribution.\n"
   ]
  },
  {
   "cell_type": "markdown",
   "id": "5adb7fd6-77de-422c-9d12-3e5677e83ffb",
   "metadata": {},
   "source": [
    "## 3:ans:-"
   ]
  },
  {
   "cell_type": "code",
   "execution_count": null,
   "id": "3d9253f2-1fd1-466e-b0b6-ed524fe1958e",
   "metadata": {},
   "outputs": [],
   "source": [
    "Type 1 Error (False Positive):\n",
    "A Type 1 error occurs when the null hypothesis (H₀) is rejected, even though it is actually true.\n",
    "In other words, it's a false positive, indicating a significant result when there is no true effect or difference.\n",
    "\n",
    "Example scenario:\n",
    "Suppose a pharmaceutical company is testing a new drug for effectiveness in treating a specific disease.\n",
    "The null hypothesis (H₀) in this case would be that the drug has no effect on the disease. However, due to\n",
    "random chance or other factors, the statistical analysis might show a significant effect even though the\n",
    "drug is actually ineffective. If the researchers reject the null hypothesis based on this erroneous result,\n",
    "it would be a Type 1 error.\n",
    "\n",
    "Type 2 Error (False Negative):\n",
    "A Type 2 error occurs when the null hypothesis (H₀) is not rejected, despite it being false. In other words,\n",
    "it's a false negative, indicating no significant result when there is a true effect or difference.\n",
    "\n",
    "Example scenario:\n",
    "Continuing with the pharmaceutical example, let's say the drug being tested is genuinely effective in treating \n",
    "the disease. However, during the analysis, the sample size is small, or the statistical test used is not powerful\n",
    "enough to detect the true effect. As a result, the null hypothesis is not rejected, and it is concluded\n",
    "that the drug is ineffective. This would be a Type 2 error because the true effect of the drug is missed.\n"
   ]
  },
  {
   "cell_type": "markdown",
   "id": "2d22b354-52ff-41df-9f6c-4eef2fcdef36",
   "metadata": {},
   "source": [
    "## 4:ans:-"
   ]
  },
  {
   "cell_type": "code",
   "execution_count": null,
   "id": "0c9fed88-58f4-4cea-94cb-ed1f8615ebe5",
   "metadata": {},
   "outputs": [],
   "source": [
    "Bayes' theorem is a fundamental concept in probability theory and statistics that allows us to update \n",
    "our beliefs or knowledge about an event based on new evidence. It describes the probability of an event\n",
    "occurring given some prior knowledge or information.\n"
   ]
  },
  {
   "cell_type": "markdown",
   "id": "a070a28a-f117-41ab-8b01-0ad87af9ac8f",
   "metadata": {},
   "source": [
    "## 5:ans:-"
   ]
  },
  {
   "cell_type": "code",
   "execution_count": null,
   "id": "5ca72a38-0cc4-446b-8ccf-f50e1a153f77",
   "metadata": {},
   "outputs": [],
   "source": [
    "A confidence interval is a statistical range that provides an estimate of the possible values of a population\n",
    "parameter based on a sample of data. It is commonly used to quantify the uncertainty associated with an estimate\n",
    "and express the level of confidence we have in the estimate. The confidence interval consists of an upper and\n",
    "lower bound within which the true parameter value is likely to fall.\n",
    "\n",
    "To calculate a confidence interval, you typically follow these steps:\n",
    "\n",
    "1:- Determine the level of confidence you want to use. Commonly used levels are 90%, 95%, and 99%.\n",
    "    Let's say we choose a 95% confidence level for our example.\n",
    "\n",
    "2:- Collect a sample of data from the population of interest. For instance, suppose you want to\n",
    "    estimate the average height of students in a particular school, and you measure the heights of a\n",
    "    random sample of 100 students.\n",
    "\n",
    "3:- Calculate the sample mean and sample standard deviation. Let's assume the sample mean height is 170 cm,\n",
    "    and the sample standard deviation is 5 cm.\n",
    "\n",
    "4:- Determine the appropriate critical value based on the desired confidence level and the sample size.\n",
    "    This value is obtained from a statistical table or calculated using a statistical software. For a 95% \n",
    "    confidence level and a sample size of 100, the critical value is approximately 1.96 (for a normal distribution).\n",
    "    "
   ]
  },
  {
   "cell_type": "markdown",
   "id": "6bcf2359-6a1e-4f8c-bb2d-359025f6fb5b",
   "metadata": {},
   "source": [
    "## 6:ans:-"
   ]
  },
  {
   "cell_type": "code",
   "execution_count": null,
   "id": "3fb1e8ac-7f92-4c18-965d-3835ac8ba105",
   "metadata": {},
   "outputs": [],
   "source": [
    "Problem:\n",
    "Suppose a certain disease affects 1% of the population. A reliable diagnostic test for this disease correctly\n",
    "identifies the disease in 95% of cases when it is present (true positive), but it also incorrectly identifies\n",
    "the disease in 3% of cases when it is not present (false positive). If a person tests positive for the disease,\n",
    "what is the probability that they actually have the disease?\n",
    "\n",
    "Solution:\n",
    "To solve this problem, we can use Bayes' theorem, which states:\n",
    "\n",
    "P(A|B) = (P(B|A) * P(A)) / P(B)\n",
    "\n",
    "Where:\n",
    "\n",
    "P(A|B) is the probability of event A occurring given event B.\n",
    "P(B|A) is the probability of event B occurring given event A.\n",
    "P(A) is the prior probability of event A.\n",
    "P(B) is the prior probability of event B.\n",
    "In our case, let's define the events:\n",
    "\n",
    "Event A: Having the disease.\n",
    "Event B: Testing positive for the disease.\n",
    "Given information:\n",
    "\n",
    "P(A) = 0.01 (1% of the population has the disease).\n",
    "P(B|A) = 0.95 (95% chance of testing positive if the person has the disease).\n",
    "P(B|¬A) = 0.03 (3% chance of testing positive if the person does not have the disease).\n",
    "First, we need to calculate P(B), the overall probability of testing positive, which can be expressed as:\n",
    "\n",
    "P(B) = P(B|A) * P(A) + P(B|¬A) * P(¬A)\n",
    "\n",
    "P(¬A) represents the complement of event A (not having the disease), which can be calculated as:\n",
    "\n",
    "P(¬A) = 1 - P(A)\n",
    "\n",
    "Substituting the given values:\n",
    "\n",
    "P(B) = (0.95 * 0.01) + (0.03 * 0.99)\n",
    "= 0.0095 + 0.0297\n",
    "= 0.0392\n",
    "\n",
    "Now we can apply Bayes' theorem to calculate P(A|B), the probability of actually having the disease given a positive\n",
    "test result:\n",
    "\n",
    "P(A|B) = (P(B|A) * P(A)) / P(B)\n",
    "\n",
    "Substituting the given values:\n",
    "\n",
    "P(A|B) = (0.95 * 0.01) / 0.0392\n",
    "= 0.0095 / 0.0392\n",
    "≈ 0.242\n",
    "\n",
    "Therefore, the probability that a person actually has the disease given a positive test result is approximately 0.242or 24.2%.\n",
    "\n",
    "It is important to note that even with a positive test result, there is still a significant chance of a false positive \n",
    "due to the relatively low prior probability of having the disease. Further confirmatory testing or medical consultation\n",
    "may be necessary to make a definitive diagnosis.\n",
    "\n",
    "Remember, Bayes' theorem is a powerful tool for updating probabilities based on new evidence, and it is widely used in\n",
    "various fields, including medicine, statistics, and artificial intelligence.\n",
    "\n"
   ]
  },
  {
   "cell_type": "markdown",
   "id": "4cc2e2b0-62c6-4942-b8bb-7c11055735b3",
   "metadata": {},
   "source": [
    "## 7:ans:-"
   ]
  },
  {
   "cell_type": "code",
   "execution_count": null,
   "id": "60919941-9ce7-4642-8e4c-fa3c0eda4dab",
   "metadata": {},
   "outputs": [],
   "source": [
    "To calculate the 95% confidence interval for a sample of data with a mean of 50 and a standard deviation of 5,\n",
    "we can use the following formula:\n",
    "\n",
    "Confidence Interval = Mean ± (Z * (Standard Deviation / √n))\n",
    "\n",
    "Here, the Z-value corresponds to the desired level of confidence. For a 95% confidence level, the Z-value is\n",
    "approximately 1.96. The sample size is denoted by 'n' and is not provided in your question. To proceed with the \n",
    "calculation, we'll assume a sample size of 30.\n",
    "\n",
    "Confidence Interval = 50 ± (1.96 * (5 / √30))\n",
    "\n",
    "Now, let's compute the confidence interval:\n",
    "\n",
    "Confidence Interval = 50 ± (1.96 * (5 / √30))\n",
    "≈ 50 ± (1.96 * (5 / 5.48))\n",
    "≈ 50 ± (1.96 * 0.911)\n",
    "\n",
    "Calculating the values:\n",
    "\n",
    "Confidence Interval ≈ 50 ± 1.784\n",
    "Lower Limit ≈ 50 - 1.784 ≈ 48.216\n",
    "Upper Limit ≈ 50 + 1.784 ≈ 51.784\n",
    "\n",
    "Interpretation:\n",
    "The 95% confidence interval for the given sample data with a mean of 50 and a standard deviation of 5 is approximately\n",
    "(48.216, 51.784). This means that we are 95% confident that the true population mean lies within this interval. \n",
    "In simpler terms, if we were to repeatedly sample from the population and calculate confidence intervals in the same\n",
    "manner, we would expect 95% of those intervals to capture the true population mean.\n",
    "\n"
   ]
  },
  {
   "cell_type": "markdown",
   "id": "8a45f137-5153-4e4c-99aa-ddccf1ebada1",
   "metadata": {},
   "source": [
    "## 8:ans:-"
   ]
  },
  {
   "cell_type": "code",
   "execution_count": null,
   "id": "d20c70c8-e541-44f6-b1c7-2605e20ecb45",
   "metadata": {},
   "outputs": [],
   "source": [
    "The margin of error in a confidence interval is a measure of the uncertainty or variability associated with the estimate.\n",
    "It represents the maximum amount by which the estimate is expected to deviate from the true population parameter.\n",
    "\n",
    "When constructing a confidence interval, statisticians use a sample from a population to estimate a parameter of interest,\n",
    "such as the mean or proportion. The margin of error is calculated based on the desired level of confidence and the\n",
    "variability observed in the sample.\n",
    "\n",
    "The margin of error is typically denoted as \"E\" and is computed by multiplying a critical value by the standard error\n",
    "of the estimate. The critical value is determined based on the desired level of confidence, such as 95% or 99%. The \n",
    "standard error measures the variability or dispersion of the sample estimate.\n",
    "\n",
    "The formula for calculating the margin of error is:\n",
    "\n",
    "Margin of Error = Critical Value × Standard Error\n",
    "\n",
    "The margin of error provides a range around the sample estimate within which the true population parameter\n",
    "is likely to fall with a certain level of confidence. It is important to note that a smaller margin of error\n",
    "corresponds to a more precise estimate, while a larger margin of error indicates greater uncertainty.\n",
    "\n"
   ]
  },
  {
   "cell_type": "markdown",
   "id": "61e3ad12-d775-4d1d-b52f-4811519ed051",
   "metadata": {},
   "source": [
    "## 9:ans:-"
   ]
  },
  {
   "cell_type": "code",
   "execution_count": null,
   "id": "093bfdd2-7b99-4f7c-a79a-c363f8f1981d",
   "metadata": {},
   "outputs": [],
   "source": [
    "To calculate the z-score, you can use the formula:\n",
    "\n",
    "z = (x - μ) / σ\n",
    "\n",
    "where:\n",
    "x is the data point (value)\n",
    "μ is the population mean\n",
    "σ is the population standard deviation\n",
    "\n",
    "Given:\n",
    "x = 75\n",
    "μ = 70\n",
    "σ = 5\n",
    "\n",
    "Substituting the values into the formula:\n",
    "\n",
    "z = (75 - 70) / 5\n",
    "z = 5 / 5\n",
    "z = 1\n",
    "\n",
    "The calculated z-score is 1.\n",
    "\n",
    "Interpreting the result:\n",
    "A z-score of 1 means that the data point (75) is one standard deviation above the population mean (70).\n",
    "This indicates that the data point is relatively higher than the average value in the population. It provides\n",
    "a measure of how far away the data point is from the mean in terms of standard deviations.\n",
    "\n"
   ]
  },
  {
   "cell_type": "markdown",
   "id": "a448fe22-3ac7-4435-a3a8-5b251db63c4a",
   "metadata": {},
   "source": [
    "## 10:ans:-"
   ]
  },
  {
   "cell_type": "code",
   "execution_count": null,
   "id": "8fb180c7-1ef8-4916-85af-2cae9cad90db",
   "metadata": {},
   "outputs": [],
   "source": [
    "To calculate the 95% confidence interval for the true proportion of people who are satisfied with their job, we can use the following formula:\n",
    "\n",
    "Confidence Interval = Sample Proportion ± (Z * Standard Error)\n",
    "\n",
    "Where:\n",
    "\n",
    "Sample Proportion: The proportion of people in the survey who reported being satisfied with their job (65% or 0.65 in decimal form).\n",
    "Z: The Z-score corresponding to the desired confidence level. For a 95% confidence level, the Z-score is approximately 1.96.\n",
    "Standard Error: The standard error of the proportion, which can be calculated as the square root of [(Sample Proportion * (1 - Sample Proportion)) / Sample Size].\n",
    "Now let's calculate the confidence interval:\n",
    "\n",
    "Sample Proportion = 0.65\n",
    "Z = 1.96 (for a 95% confidence level)\n",
    "Sample Size = 500\n",
    "\n",
    "Standard Error = sqrt[(0.65 * (1 - 0.65)) / 500]\n",
    "= sqrt[(0.65 * 0.35) / 500]\n",
    "= sqrt(0.2275 / 500)\n",
    "= sqrt(0.000455)\n",
    "≈ 0.02135\n",
    "\n",
    "Confidence Interval = 0.65 ± (1.96 * 0.02135)\n",
    "\n",
    "Lower Limit = 0.65 - (1.96 * 0.02135)\n",
    "≈ 0.65 - 0.04184\n",
    "≈ 0.60816\n",
    "\n",
    "Upper Limit = 0.65 + (1.96 * 0.02135)\n",
    "≈ 0.65 + 0.04184\n",
    "≈ 0.69184\n",
    "\n",
    "Therefore, the 95% confidence interval for the true proportion of people who are satisfied with their job is approximately\n",
    "0.60816 to 0.69184 (or 60.816% to 69.184%).\n",
    "\n",
    "\n",
    "\n",
    "\n",
    "\n",
    "\n"
   ]
  }
 ],
 "metadata": {
  "kernelspec": {
   "display_name": "Python 3 (ipykernel)",
   "language": "python",
   "name": "python3"
  },
  "language_info": {
   "codemirror_mode": {
    "name": "ipython",
    "version": 3
   },
   "file_extension": ".py",
   "mimetype": "text/x-python",
   "name": "python",
   "nbconvert_exporter": "python",
   "pygments_lexer": "ipython3",
   "version": "3.10.8"
  }
 },
 "nbformat": 4,
 "nbformat_minor": 5
}
